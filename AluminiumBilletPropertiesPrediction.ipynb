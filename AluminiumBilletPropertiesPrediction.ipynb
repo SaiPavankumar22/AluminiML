{
  "nbformat": 4,
  "nbformat_minor": 0,
  "metadata": {
    "colab": {
      "provenance": [],
      "include_colab_link": true
    },
    "kernelspec": {
      "name": "python3",
      "display_name": "Python 3"
    },
    "language_info": {
      "name": "python"
    }
  },
  "cells": [
    {
      "cell_type": "markdown",
      "metadata": {
        "id": "view-in-github",
        "colab_type": "text"
      },
      "source": [
        "<a href=\"https://colab.research.google.com/github/SaiPavankumar22/AluminiML/blob/main/AluminiumBilletPropertiesPrediction.ipynb\" target=\"_parent\"><img src=\"https://colab.research.google.com/assets/colab-badge.svg\" alt=\"Open In Colab\"/></a>"
      ]
    },
    {
      "cell_type": "code",
      "execution_count": 56,
      "metadata": {
        "id": "2e-dA3VUii-g"
      },
      "outputs": [],
      "source": [
        "import pandas as pd\n",
        "from sklearn.model_selection import train_test_split, GridSearchCV\n",
        "from sklearn.tree import DecisionTreeRegressor\n",
        "from sklearn.svm import SVR\n",
        "from sklearn.ensemble import RandomForestRegressor , GradientBoostingRegressor\n",
        "import joblib\n",
        "from sklearn.linear_model import LinearRegression, Ridge, Lasso\n",
        "from sklearn.neighbors import KNeighborsRegressor\n",
        "from sklearn.model_selection import GridSearchCV\n",
        "from sklearn.metrics import mean_squared_error\n",
        "import matplotlib.pyplot as plt\n",
        "import numpy as np"
      ]
    },
    {
      "cell_type": "code",
      "source": [
        "data = pd.read_csv('wire_rod_casting_parameters.csv')"
      ],
      "metadata": {
        "id": "6Y1300H9rquf"
      },
      "execution_count": 57,
      "outputs": []
    },
    {
      "cell_type": "code",
      "source": [
        "param_grid_svm = {'C': [0.1, 1, 10], 'kernel': ['linear', 'rbf']}\n",
        "param_grid_dt = {'max_depth': [5, 10, 15], 'min_samples_split': [2, 5, 10]}\n",
        "param_grid_rf = {'n_estimators': [100, 200], 'max_depth': [5, 10, 15]}\n",
        "param_grid_gb = {'n_estimators': [100, 200], 'learning_rate': [0.01, 0.1, 0.2]}\n",
        "param_grid_knn = {'n_neighbors': [3, 5, 7]}\n",
        "param_grid_linear = {}\n",
        "param_grid_ridge = {'alpha': [0.1, 1, 10]}\n",
        "param_grid_lasso = {'alpha': [0.1, 1, 10]}\n",
        "models = {\n",
        "    'SVR': (SVR(), param_grid_svm),\n",
        "    'DecisionTree': (DecisionTreeRegressor(), param_grid_dt),\n",
        "    'RandomForest': (RandomForestRegressor(), param_grid_rf),\n",
        "    'GradientBoosting': (GradientBoostingRegressor(), param_grid_gb),\n",
        "    'KNeighbors': (KNeighborsRegressor(), param_grid_knn),\n",
        "    'LinearRegression': (LinearRegression(), param_grid_linear),\n",
        "    'Ridge': (Ridge(), param_grid_ridge),\n",
        "    'Lasso': (Lasso(), param_grid_lasso)\n",
        "}"
      ],
      "metadata": {
        "id": "DGVu0qokweWJ"
      },
      "execution_count": 58,
      "outputs": []
    },
    {
      "cell_type": "code",
      "source": [
        "def find_best_model(X_train, y_train, X_test, y_test, target_name):\n",
        "    best_model = None\n",
        "    best_score = -float('inf')\n",
        "    model_scores = []\n",
        "\n",
        "    for model_name, (model, param_grid) in models.items():\n",
        "        grid_search = GridSearchCV(model, param_grid, cv=5, scoring='neg_mean_squared_error', n_jobs=-1)\n",
        "        grid_search.fit(X_train, y_train)\n",
        "        score = grid_search.best_estimator_.score(X_test, y_test)\n",
        "        mse = mean_squared_error(y_test, grid_search.best_estimator_.predict(X_test))\n",
        "\n",
        "        print(f\"Model: {model_name}, Target: {target_name}, Best Params: {grid_search.best_params_}, Score: {score}, MSE: {mse}\")\n",
        "\n",
        "        model_scores.append((model_name, score, mse))\n",
        "\n",
        "        if score > best_score:\n",
        "            best_score = score\n",
        "            best_model = grid_search.best_estimator_\n",
        "\n",
        "    print(f\"\\nBest model for {target_name}: {type(best_model).__name__} with score: {best_score}\\n\")\n",
        "\n",
        "    # Visualization of model comparison\n",
        "    model_scores = sorted(model_scores, key=lambda x: x[2])  # Sort by MSE\n",
        "    model_names, scores, mses = zip(*model_scores)\n",
        "\n",
        "    plt.figure(figsize=(10, 6))\n",
        "    plt.barh(model_names, mses, color='skyblue')\n",
        "    plt.xlabel('Mean Squared Error')\n",
        "    plt.ylabel('Models')\n",
        "    plt.title(f'Model Comparison for {target_name}')\n",
        "    plt.gca().invert_yaxis()\n",
        "    plt.show()\n",
        "\n",
        "    return best_model"
      ],
      "metadata": {
        "id": "7ibtcAM0vue2"
      },
      "execution_count": 59,
      "outputs": []
    },
    {
      "cell_type": "code",
      "source": [
        "X = data.drop(columns=['UTS_MPa', 'Elongation_percent', 'Conductivity_IACS'])"
      ],
      "metadata": {
        "id": "E50nd-BCrwTH"
      },
      "execution_count": 60,
      "outputs": []
    },
    {
      "cell_type": "markdown",
      "source": [
        "Ultimate Tensile Strength Model"
      ],
      "metadata": {
        "id": "8cyGMsiMv6W2"
      }
    },
    {
      "cell_type": "code",
      "source": [
        "y_uts = data['UTS_MPa']"
      ],
      "metadata": {
        "id": "MBqgLw0xv94y"
      },
      "execution_count": 61,
      "outputs": []
    },
    {
      "cell_type": "code",
      "source": [
        "X_train, X_test, y_uts_train, y_uts_test = train_test_split(X, y_uts, test_size=0.2, random_state=42)"
      ],
      "metadata": {
        "id": "y6BEOl_Qr2WW"
      },
      "execution_count": 62,
      "outputs": []
    },
    {
      "cell_type": "code",
      "source": [
        "best_model_uts = find_best_model(X_train, y_uts_train, X_test, y_uts_test, \"UTS\")"
      ],
      "metadata": {
        "colab": {
          "base_uri": "https://localhost:8080/",
          "height": 755
        },
        "id": "3MQVfrhYr7db",
        "outputId": "26bfefd2-b718-4890-a122-be3c5ce1f746"
      },
      "execution_count": 63,
      "outputs": [
        {
          "output_type": "stream",
          "name": "stdout",
          "text": [
            "Model: SVR, Target: UTS, Best Params: {'C': 1, 'kernel': 'linear'}, Score: 0.9942842818137027, MSE: 0.39462534034327734\n",
            "Model: DecisionTree, Target: UTS, Best Params: {'max_depth': 10, 'min_samples_split': 2}, Score: 0.9780536686377517, MSE: 1.515221394902933\n",
            "Model: RandomForest, Target: UTS, Best Params: {'max_depth': 15, 'n_estimators': 200}, Score: 0.9935112022134608, MSE: 0.4480004002070158\n",
            "Model: GradientBoosting, Target: UTS, Best Params: {'learning_rate': 0.1, 'n_estimators': 200}, Score: 0.9965629306019866, MSE: 0.2373025815419231\n",
            "Model: KNeighbors, Target: UTS, Best Params: {'n_neighbors': 7}, Score: 0.9514098043568151, MSE: 3.354770453695114\n",
            "Model: LinearRegression, Target: UTS, Best Params: {}, Score: 0.9942901408891676, MSE: 0.3942208173115134\n",
            "Model: Ridge, Target: UTS, Best Params: {'alpha': 0.1}, Score: 0.9942889306753753, MSE: 0.39430437304573324\n",
            "Model: Lasso, Target: UTS, Best Params: {'alpha': 0.1}, Score: 0.9936387665721895, MSE: 0.43919308556374126\n",
            "\n",
            "Best model for UTS: GradientBoostingRegressor with score: 0.9965629306019866\n",
            "\n"
          ]
        },
        {
          "output_type": "display_data",
          "data": {
            "text/plain": [
              "<Figure size 1000x600 with 1 Axes>"
            ],
            "image/png": "[encoded data removed]"
          },
          "metadata": {}
        }
      ]
    },
    {
      "cell_type": "code",
      "source": [
        "y_uts_pred = best_model_uts.predict(X_test)\n",
        "accuracy_uts = best_model_uts.score(X_test, y_uts_test)"
      ],
      "metadata": {
        "id": "-uPJ2oIBsDv3"
      },
      "execution_count": 64,
      "outputs": []
    },
    {
      "cell_type": "code",
      "source": [
        "y_uts_pred"
      ],
      "metadata": {
        "colab": {
          "base_uri": "https://localhost:8080/"
        },
        "id": "sZULrQjksPI0",
        "outputId": "cbd272dd-4b47-44ae-bb8e-c2e03cd7ffa5"
      },
      "execution_count": 65,
      "outputs": [
        {
          "output_type": "execute_result",
          "data": {
            "text/plain": [
              "array([207.91856358, 185.37571494, 194.62644909, 198.56442252,\n",
              "       209.36015988, 208.65505453, 196.00254192, 203.93734613,\n",
              "       193.74716862, 200.3933986 , 186.33502311, 195.50451125,\n",
              "       202.88242859, 190.55232355, 190.87370928, 194.37907751,\n",
              "       196.19133146, 208.70918124, 186.70071171, 199.88657772,\n",
              "       190.09290623, 207.34349436, 192.33254123, 187.95298691,\n",
              "       207.32011202, 196.16046685, 179.82765032, 186.32710963,\n",
              "       187.20942358, 201.63142445, 199.06079263, 199.1316238 ,\n",
              "       207.79308387, 207.79369303, 202.50821215, 207.81263085,\n",
              "       206.61206672, 209.32941909, 193.05202831, 188.20817909,\n",
              "       196.80894104, 189.43714712, 195.47606458, 194.25073824,\n",
              "       201.07443902, 198.90135669, 187.07437413, 200.67485165,\n",
              "       189.10437464, 199.91444735, 190.92409892, 181.77968335,\n",
              "       188.16449535, 206.44827386, 207.95576556, 208.08895372,\n",
              "       202.86217455, 184.70288851, 200.80922708, 201.57144343,\n",
              "       193.57983326, 184.76171505, 195.96852834, 195.50794604,\n",
              "       210.04964146, 191.34193976, 193.9561742 , 187.81309769,\n",
              "       198.87396973, 202.178841  , 183.6090219 , 205.9848908 ,\n",
              "       198.97986873, 193.92916658, 208.68248453, 188.96805449,\n",
              "       197.75281284, 189.04388374, 209.72208145, 202.40658066,\n",
              "       205.7734489 , 188.39020383, 190.78211565, 203.98328053,\n",
              "       210.22433691, 185.08263721, 194.52377798, 208.37237312,\n",
              "       205.54208386, 198.371779  , 193.89117429, 196.40961742,\n",
              "       199.25496716, 197.14507447, 200.22100813, 192.31933769,\n",
              "       186.56300505, 208.4919076 , 210.55970165, 183.63244775,\n",
              "       192.66454894, 204.2442405 , 187.9008958 , 203.59423704,\n",
              "       188.19794945, 207.98786024, 191.81290347, 207.45188153,\n",
              "       209.18362807, 186.26254739, 197.85634902, 203.41974158,\n",
              "       189.91953101, 192.46633515, 184.46498703, 206.61360173,\n",
              "       189.17368746, 181.52433959, 209.23353   , 197.57012154,\n",
              "       201.2415952 , 207.06054022, 189.89800509, 204.91840828,\n",
              "       204.20016051, 209.68243055, 209.66049363, 209.84830465,\n",
              "       189.3076005 , 206.63452045, 193.01505214, 184.66483255,\n",
              "       206.66019427, 184.21601215, 190.5888109 , 210.60563885,\n",
              "       199.76425861, 204.32160343, 202.16664078, 198.48551622,\n",
              "       184.46882366, 190.67601413, 197.88818327, 184.4756865 ,\n",
              "       189.60028196, 190.31417805, 188.71491891, 189.81306085,\n",
              "       191.0433004 , 210.13622932, 199.89731071, 198.99083192,\n",
              "       204.80157276, 186.13570623, 193.85711786, 195.60978862,\n",
              "       203.05213223, 191.57779117, 209.49407822, 193.54983287,\n",
              "       197.13821721, 208.87429817, 187.11344306, 209.15744521,\n",
              "       204.35436749, 204.33249519, 210.05248021, 184.40177064,\n",
              "       193.21582309, 201.2490411 , 187.82132005, 209.98420592,\n",
              "       183.59768899, 203.17250335, 207.34203224, 201.05829444,\n",
              "       198.51628355, 206.20153013, 196.53516732, 202.99624431,\n",
              "       197.78310666, 195.67086725, 186.34792115, 208.59935848,\n",
              "       192.45682866, 188.46208498, 206.35022617, 205.1872347 ,\n",
              "       196.27271692, 201.8213829 , 197.59120622, 201.04795847,\n",
              "       209.87554252, 197.5720834 , 209.17138339])"
            ]
          },
          "metadata": {},
          "execution_count": 65
        }
      ]
    },
    {
      "cell_type": "code",
      "source": [
        "accuracy_uts"
      ],
      "metadata": {
        "colab": {
          "base_uri": "https://localhost:8080/"
        },
        "id": "0oDHfY1gsX93",
        "outputId": "8a6d4897-8d18-44a1-98e9-11878aaefe88"
      },
      "execution_count": 66,
      "outputs": [
        {
          "output_type": "execute_result",
          "data": {
            "text/plain": [
              "0.9965629306019866"
            ]
          },
          "metadata": {},
          "execution_count": 66
        }
      ]
    },
    {
      "cell_type": "markdown",
      "source": [
        "Elongation percentage model"
      ],
      "metadata": {
        "id": "sYDyWW1Gso39"
      }
    },
    {
      "cell_type": "code",
      "source": [
        "y_elongation = data['Elongation_percent']"
      ],
      "metadata": {
        "id": "A8MViHSGsoY_"
      },
      "execution_count": 67,
      "outputs": []
    },
    {
      "cell_type": "code",
      "source": [
        "X_train, X_test, y_elongation_train, y_elongation_test = train_test_split(X, y_elongation, test_size=0.2, random_state=42)"
      ],
      "metadata": {
        "id": "56140Gehs-_0"
      },
      "execution_count": 68,
      "outputs": []
    },
    {
      "cell_type": "code",
      "source": [
        "best_model_elongation = find_best_model(X_train, y_elongation_train, X_test, y_elongation_test, \"Elongation\")"
      ],
      "metadata": {
        "colab": {
          "base_uri": "https://localhost:8080/",
          "height": 755
        },
        "id": "OYlxPwvztHob",
        "outputId": "f206b605-7161-4527-ddfe-540244ddbc3a"
      },
      "execution_count": 69,
      "outputs": [
        {
          "output_type": "stream",
          "name": "stdout",
          "text": [
            "Model: SVR, Target: Elongation, Best Params: {'C': 0.1, 'kernel': 'linear'}, Score: 0.9845682803549338, MSE: 0.02688423008235043\n",
            "Model: DecisionTree, Target: Elongation, Best Params: {'max_depth': 15, 'min_samples_split': 5}, Score: 0.9894432506444232, MSE: 0.01839134491325283\n",
            "Model: RandomForest, Target: Elongation, Best Params: {'max_depth': 15, 'n_estimators': 200}, Score: 0.9956147117817813, MSE: 0.007639790000572433\n",
            "Model: GradientBoosting, Target: Elongation, Best Params: {'learning_rate': 0.1, 'n_estimators': 200}, Score: 0.9986029943761358, MSE: 0.0024337806467546346\n",
            "Model: KNeighbors, Target: Elongation, Best Params: {'n_neighbors': 7}, Score: 0.9886921339872508, MSE: 0.019699895968777487\n",
            "Model: LinearRegression, Target: Elongation, Best Params: {}, Score: 0.9848291477706046, MSE: 0.02642976228581273\n",
            "Model: Ridge, Target: Elongation, Best Params: {'alpha': 0.1}, Score: 0.9848279612248335, MSE: 0.026431829415740345\n",
            "Model: Lasso, Target: Elongation, Best Params: {'alpha': 0.1}, Score: 0.9753055295597594, MSE: 0.043021247167971545\n",
            "\n",
            "Best model for Elongation: GradientBoostingRegressor with score: 0.9986029943761358\n",
            "\n"
          ]
        },
        {
          "output_type": "display_data",
          "data": {
            "text/plain": [
              "<Figure size 1000x600 with 1 Axes>"
            ],
            "image/png": "[encoded data removed]"
          },
          "metadata": {}
        }
      ]
    },
    {
      "cell_type": "code",
      "source": [
        "y_elongation_pred = best_model_elongation.predict(X_test)\n",
        "accuracy_elongation = best_model_elongation.score(X_test, y_elongation_test)"
      ],
      "metadata": {
        "id": "8PUOpVKTx-pM"
      },
      "execution_count": 70,
      "outputs": []
    },
    {
      "cell_type": "code",
      "source": [
        "y_elongation_pred"
      ],
      "metadata": {
        "colab": {
          "base_uri": "https://localhost:8080/"
        },
        "id": "17rssqZ8yERo",
        "outputId": "38797963-7328-455c-a2d9-bbdac5e011ae"
      },
      "execution_count": 71,
      "outputs": [
        {
          "output_type": "execute_result",
          "data": {
            "text/plain": [
              "array([21.97418017, 18.4526152 , 19.85157973, 20.65356928, 21.99484274,\n",
              "       21.98195127, 20.49695838, 21.64279296, 19.73518375, 20.53038978,\n",
              "       18.31117203, 19.45154403, 21.50954716, 19.28189962, 19.48234864,\n",
              "       20.1022414 , 19.64470988, 21.99095101, 18.61382964, 20.49803569,\n",
              "       19.46968822, 21.91356818, 19.50722078, 18.39203398, 21.9630329 ,\n",
              "       20.1216244 , 17.96296135, 18.6472734 , 18.88908107, 21.30237808,\n",
              "       20.51171374, 20.73745754, 22.00667029, 22.01592643, 21.3011885 ,\n",
              "       21.89202519, 21.84347631, 21.98418644, 19.08770917, 18.68405987,\n",
              "       19.89845292, 19.11736289, 19.96645884, 19.78626161, 20.7995159 ,\n",
              "       20.35906315, 18.60069465, 20.22871315, 19.04449866, 20.50748564,\n",
              "       19.00810818, 18.12657135, 18.94456804, 21.39778789, 21.98372382,\n",
              "       21.98490169, 20.9310486 , 18.72057539, 21.20026837, 21.24712383,\n",
              "       19.6994165 , 18.2374471 , 20.20899674, 19.67278548, 22.00418053,\n",
              "       19.26096721, 19.7711105 , 18.58714758, 20.60147317, 20.92380986,\n",
              "       17.99883379, 21.77779212, 20.67466826, 19.69657781, 21.97491961,\n",
              "       18.58633111, 20.47371282, 18.82627748, 22.02229235, 20.82920404,\n",
              "       21.60636981, 18.89433832, 19.06590029, 21.23270579, 22.00151633,\n",
              "       18.27694151, 19.72847842, 22.01229626, 21.51322041, 20.70465926,\n",
              "       19.83014623, 20.17666331, 20.88332386, 20.34350826, 20.74368233,\n",
              "       19.27085171, 18.33878159, 21.9310741 , 22.00731955, 18.04564228,\n",
              "       19.31478106, 21.62789364, 18.7361405 , 21.27671235, 19.07287759,\n",
              "       22.0010304 , 19.24547564, 21.99855115, 21.98662921, 18.65871991,\n",
              "       20.62793058, 21.48494823, 19.25158755, 19.32164395, 18.08267966,\n",
              "       21.92309385, 18.90196912, 17.99730312, 21.99182617, 20.00409429,\n",
              "       20.89584298, 21.70130545, 18.8607528 , 21.61164485, 21.18232226,\n",
              "       21.99538689, 22.00554496, 22.01227412, 18.44052677, 21.96136775,\n",
              "       19.68418192, 18.32695363, 21.23611214, 18.04672832, 18.9901474 ,\n",
              "       22.01365048, 20.89286003, 21.35311549, 21.12570554, 20.49100031,\n",
              "       18.73794858, 19.14013472, 20.07365588, 18.2177714 , 18.49403433,\n",
              "       18.96193906, 18.77467666, 18.82851093, 19.19820166, 22.00333391,\n",
              "       20.86633254, 20.30952669, 21.46002797, 18.56199709, 20.27478588,\n",
              "       20.10474246, 21.65203709, 19.41064084, 22.01174677, 19.65628178,\n",
              "       20.43694361, 21.98154624, 18.21180126, 21.99429215, 21.57190224,\n",
              "       21.24197418, 22.00674987, 18.08930977, 19.50501085, 20.84318591,\n",
              "       19.14000954, 21.99579115, 18.1784777 , 21.43134993, 21.94611052,\n",
              "       20.81700526, 20.67988787, 21.96332535, 19.68115152, 20.64275156,\n",
              "       20.14344428, 20.55677554, 18.6419334 , 21.97509614, 19.27388531,\n",
              "       18.49419526, 21.74754558, 21.31257866, 20.00978664, 21.18344344,\n",
              "       20.51076796, 20.98041802, 22.02512527, 20.19005552, 21.98963563])"
            ]
          },
          "metadata": {},
          "execution_count": 71
        }
      ]
    },
    {
      "cell_type": "code",
      "source": [
        "accuracy_elongation"
      ],
      "metadata": {
        "colab": {
          "base_uri": "https://localhost:8080/"
        },
        "id": "bGgBFb7cyKAR",
        "outputId": "4caa358b-0072-40ab-e9df-2d55d6a39874"
      },
      "execution_count": 72,
      "outputs": [
        {
          "output_type": "execute_result",
          "data": {
            "text/plain": [
              "0.9986029943761358"
            ]
          },
          "metadata": {},
          "execution_count": 72
        }
      ]
    },
    {
      "cell_type": "markdown",
      "source": [
        "Conductivity Model"
      ],
      "metadata": {
        "id": "2hwIXALuyeB9"
      }
    },
    {
      "cell_type": "code",
      "source": [
        "y_conductivity = data['Conductivity_IACS']"
      ],
      "metadata": {
        "id": "cN-lgs1ayuL7"
      },
      "execution_count": 73,
      "outputs": []
    },
    {
      "cell_type": "code",
      "source": [
        "X_train, X_test, y_conductivity_train, y_conductivity_test = train_test_split(X, y_conductivity, test_size=0.2, random_state=42)"
      ],
      "metadata": {
        "id": "nJeRrnRSyy2a"
      },
      "execution_count": 74,
      "outputs": []
    },
    {
      "cell_type": "code",
      "source": [
        "best_model_conductivity = find_best_model(X_train, y_conductivity_train, X_test, y_conductivity_test, \"Conductivity\")"
      ],
      "metadata": {
        "colab": {
          "base_uri": "https://localhost:8080/",
          "height": 755
        },
        "id": "_jo4J4l-y97K",
        "outputId": "73abca1b-7c55-4cfe-da1f-4e51e28f561d"
      },
      "execution_count": 75,
      "outputs": [
        {
          "output_type": "stream",
          "name": "stdout",
          "text": [
            "Model: SVR, Target: Conductivity, Best Params: {'C': 0.1, 'kernel': 'linear'}, Score: 0.9977347594562673, MSE: 0.018222577197206772\n",
            "Model: DecisionTree, Target: Conductivity, Best Params: {'max_depth': 15, 'min_samples_split': 10}, Score: 0.9919046534781819, MSE: 0.06512247776074509\n",
            "Model: RandomForest, Target: Conductivity, Best Params: {'max_depth': 10, 'n_estimators': 200}, Score: 0.9967180602046313, MSE: 0.02640134684290246\n",
            "Model: GradientBoosting, Target: Conductivity, Best Params: {'learning_rate': 0.1, 'n_estimators': 200}, Score: 0.9984383688265888, MSE: 0.012562438320196639\n",
            "Model: KNeighbors, Target: Conductivity, Best Params: {'n_neighbors': 7}, Score: 0.9920512165444704, MSE: 0.06394346090220863\n",
            "Model: LinearRegression, Target: Conductivity, Best Params: {}, Score: 0.9977534292305535, MSE: 0.01807238943718009\n",
            "Model: Ridge, Target: Conductivity, Best Params: {'alpha': 10}, Score: 0.9977528022031884, MSE: 0.018077433517199433\n",
            "Model: Lasso, Target: Conductivity, Best Params: {'alpha': 0.1}, Score: 0.9975463695479757, MSE: 0.019738067309953044\n",
            "\n",
            "Best model for Conductivity: GradientBoostingRegressor with score: 0.9984383688265888\n",
            "\n"
          ]
        },
        {
          "output_type": "display_data",
          "data": {
            "text/plain": [
              "<Figure size 1000x600 with 1 Axes>"
            ],
            "image/png": "[encoded data removed]"
          },
          "metadata": {}
        }
      ]
    },
    {
      "cell_type": "code",
      "source": [
        "y_conductivity_pred = best_model_conductivity.predict(X_test)\n",
        "accuracy_conductivity = best_model_conductivity.score(X_test, y_conductivity_test)"
      ],
      "metadata": {
        "id": "NNPwZ_TuzU0u"
      },
      "execution_count": 76,
      "outputs": []
    },
    {
      "cell_type": "code",
      "source": [
        "y_conductivity_pred"
      ],
      "metadata": {
        "colab": {
          "base_uri": "https://localhost:8080/"
        },
        "id": "kGf7T3w6zb2V",
        "outputId": "74345dd1-c9db-467e-c81f-c7beb56241b7"
      },
      "execution_count": 77,
      "outputs": [
        {
          "output_type": "execute_result",
          "data": {
            "text/plain": [
              "array([65.05805936, 56.91009339, 59.51358602, 61.17959684, 64.65578759,\n",
              "       65.07769514, 61.46961041, 62.80436016, 58.78716504, 60.33229576,\n",
              "       56.30305682, 58.19841434, 63.36525212, 59.22956122, 59.42539569,\n",
              "       60.38993299, 59.48900519, 65.04208029, 56.44226508, 60.78534582,\n",
              "       58.93645606, 63.44494186, 58.92021025, 55.6422984 , 63.87975711,\n",
              "       59.64911611, 56.40954494, 57.02563818, 58.16633112, 62.72051468,\n",
              "       60.44193857, 61.75694318, 64.5011138 , 64.45500815, 62.59416118,\n",
              "       63.85597751, 63.18564259, 64.97311725, 57.70338978, 57.47201416,\n",
              "       59.44431259, 58.84756039, 59.95641426, 59.40497227, 62.21998926,\n",
              "       59.9615705 , 56.61642369, 59.57638166, 58.75494013, 60.77514602,\n",
              "       57.25699625, 56.6465341 , 58.18965412, 61.97899158, 64.39235714,\n",
              "       65.12738223, 62.1580546 , 57.20026116, 62.39589468, 62.79650577,\n",
              "       59.87249698, 56.66038883, 60.62524299, 59.01573277, 64.89473956,\n",
              "       58.01561821, 59.60736928, 56.81225325, 61.5079942 , 61.16573842,\n",
              "       56.80328555, 62.98392092, 61.18772383, 58.62455393, 65.15797065,\n",
              "       56.448313  , 61.17992852, 57.15734412, 64.71271525, 60.67034616,\n",
              "       63.53209271, 57.73902255, 57.22571062, 62.2406135 , 64.74456248,\n",
              "       55.74984927, 58.91674537, 64.09679785, 62.3335792 , 61.40625767,\n",
              "       59.75332603, 59.82130463, 61.77552726, 60.60888251, 60.74698135,\n",
              "       58.89608971, 56.02457878, 63.82018163, 64.92828854, 56.54287183,\n",
              "       58.49726049, 63.47318654, 56.89959296, 62.7247414 , 57.7892963 ,\n",
              "       64.89391052, 58.14507378, 64.66718809, 63.67508833, 57.25175258,\n",
              "       61.11266976, 63.55532046, 59.19193759, 58.8425809 , 56.54113374,\n",
              "       63.31509132, 57.52162948, 56.80869459, 65.0910626 , 60.22817464,\n",
              "       62.19247515, 63.11388555, 57.34472521, 62.97638882, 62.19141237,\n",
              "       64.97805137, 63.98572651, 64.7733879 , 56.34777296, 64.13464382,\n",
              "       59.22563844, 56.88136136, 62.11024336, 55.88435546, 57.73488485,\n",
              "       64.6945689 , 61.93806551, 62.35216991, 62.0562857 , 61.13662753,\n",
              "       57.59263257, 58.48512276, 59.89623157, 56.45032164, 56.68768395,\n",
              "       56.77738842, 57.95336236, 57.49953933, 58.27758368, 64.89179798,\n",
              "       61.88588138, 60.59944383, 63.17404562, 57.4209901 , 60.86325193,\n",
              "       60.55004774, 63.21869221, 59.21630865, 64.7442864 , 58.81389718,\n",
              "       61.5521736 , 64.50817054, 55.92295916, 64.89247665, 63.62855998,\n",
              "       62.22655071, 64.8143074 , 56.27059495, 58.37234028, 62.06455859,\n",
              "       58.84620861, 64.88951162, 56.2637546 , 63.09689547, 64.34236039,\n",
              "       61.27037273, 60.98221461, 64.65818021, 58.81608441, 60.850995  ,\n",
              "       59.64981738, 61.29342403, 57.83219621, 63.81157391, 58.23330677,\n",
              "       56.79122788, 63.19949307, 61.92555646, 59.89467526, 61.84845148,\n",
              "       60.49702116, 62.24888164, 63.63628359, 60.08246506, 65.10203791])"
            ]
          },
          "metadata": {},
          "execution_count": 77
        }
      ]
    },
    {
      "cell_type": "code",
      "source": [
        "accuracy_conductivity"
      ],
      "metadata": {
        "colab": {
          "base_uri": "https://localhost:8080/"
        },
        "id": "8MYPnTpgzpzz",
        "outputId": "6afa9a58-37b3-4c9b-a48e-47a6e2d14601"
      },
      "execution_count": 78,
      "outputs": [
        {
          "output_type": "execute_result",
          "data": {
            "text/plain": [
              "0.9984383688265888"
            ]
          },
          "metadata": {},
          "execution_count": 78
        }
      ]
    },
    {
      "cell_type": "code",
      "source": [
        "def predict_new_values():\n",
        "    print(\"\\nEnter the following values for prediction:\")\n",
        "    features = []\n",
        "    for col in X.columns:\n",
        "        value = float(input(f\"Enter {col}: \"))\n",
        "        features.append(value)\n",
        "    input_data = pd.DataFrame([features], columns=X.columns)\n",
        "    uts_pred = best_model_uts.predict(input_data)\n",
        "    elongation_pred = best_model_elongation.predict(input_data)\n",
        "    conductivity_pred = best_model_conductivity.predict(input_data)\n",
        "    print(\"calculating........\")\n",
        "    print(f\"Predicted UTS (MPa): {uts_pred[0]}\")\n",
        "    print(f\"Predicted Elongation (%): {elongation_pred[0]}\")\n",
        "    print(f\"Predicted Conductivity (% IACS): {conductivity_pred[0]}\")"
      ],
      "metadata": {
        "id": "gzAaRlCNzwS7"
      },
      "execution_count": 79,
      "outputs": []
    },
    {
      "cell_type": "code",
      "source": [
        "predict_new_values()"
      ],
      "metadata": {
        "colab": {
          "base_uri": "https://localhost:8080/"
        },
        "id": "QdJOQlgyz5OT",
        "outputId": "fd6bd66c-f2f5-4b92-d117-c921e7be646e"
      },
      "execution_count": 80,
      "outputs": [
        {
          "output_type": "stream",
          "name": "stdout",
          "text": [
            "\n",
            "Enter the following values for prediction:\n",
            "Enter Casting_Temp_C: 4\n",
            "Enter Cooling_Water_Temp_C: 5\n",
            "Enter Casting_Speed_m_per_min: 6\n",
            "Enter Cast_Bar_Entry_Temp_C: 7\n",
            "Enter Emulsion_Temp_C: 8\n",
            "Enter Emulsion_Pressure_bar: 9\n",
            "Enter Emulsion_Concentration_percent: 4\n",
            "Enter Rod_Quench_Water_Pressure_bar: 3\n",
            "calculating........\n",
            "Predicted UTS (MPa): 209.90864424620094\n",
            "Predicted Elongation (%): 21.992907573032532\n",
            "Predicted Conductivity (% IACS): 64.8073758506067\n"
          ]
        }
      ]
    },
    {
      "cell_type": "code",
      "source": [
        "joblib.dump(best_model_uts, 'best_model_uts.pkl')\n",
        "joblib.dump(best_model_elongation, 'best_model_elongation.pkl')\n",
        "joblib.dump(best_model_conductivity, 'best_model_conductivity.pkl')"
      ],
      "metadata": {
        "colab": {
          "base_uri": "https://localhost:8080/"
        },
        "id": "uAtVIOIBDYSQ",
        "outputId": "1b6d4f29-a9ea-4aed-a59e-79625382d864"
      },
      "execution_count": 81,
      "outputs": [
        {
          "output_type": "execute_result",
          "data": {
            "text/plain": [
              "['best_model_conductivity.pkl']"
            ]
          },
          "metadata": {},
          "execution_count": 81
        }
      ]
    },
    {
      "cell_type": "code",
      "source": [],
      "metadata": {
        "id": "EKWCYXeeEEH8"
      },
      "execution_count": 81,
      "outputs": []
    },
    {
      "cell_type": "code",
      "source": [],
      "metadata": {
        "id": "u34RrVuid-h_"
      },
      "execution_count": 81,
      "outputs": []
    }
  ]
}